{
 "cells": [
  {
   "cell_type": "code",
   "execution_count": 1,
   "metadata": {},
   "outputs": [],
   "source": [
    "# Dependencies and Setup mike\n",
    "import matplotlib.pyplot as plt\n",
    "import pandas as pd\n",
    "import numpy as np\n",
    "import requests\n",
    "import gmaps\n",
    "import os\n",
    "\n",
    "# Import API key\n",
    "from api_keys import g_key"
   ]
  },
  {
   "cell_type": "code",
   "execution_count": 2,
   "metadata": {},
   "outputs": [],
   "source": [
    "# Name of the CSV file\n",
    "top_20 = \"Resources/top_20_ca_wildfires.csv\"\n",
    "colusa_18_rainfall = \"Resources/colusa_18_rainfall.csv\"\n",
    "lassen_12_rainfall = \"Resources/lassen_12_rainfall.csv\"\n",
    "sandiego_03_rainfall = \"Resources/sandiego_03_rainfall.csv\"\n",
    "tuolumne_13_rainfall = \"Resources/tuolumne_13_rainfall.csv\"\n",
    "ventura_17_rainfall = \"Resources/ventura_17_rainfall.csv\""
   ]
  },
  {
   "cell_type": "code",
   "execution_count": 3,
   "metadata": {
    "scrolled": true
   },
   "outputs": [
    {
     "data": {
      "text/html": [
       "<div>\n",
       "<style scoped>\n",
       "    .dataframe tbody tr th:only-of-type {\n",
       "        vertical-align: middle;\n",
       "    }\n",
       "\n",
       "    .dataframe tbody tr th {\n",
       "        vertical-align: top;\n",
       "    }\n",
       "\n",
       "    .dataframe thead th {\n",
       "        text-align: right;\n",
       "    }\n",
       "</style>\n",
       "<table border=\"1\" class=\"dataframe\">\n",
       "  <thead>\n",
       "    <tr style=\"text-align: right;\">\n",
       "      <th></th>\n",
       "      <th>fire_name</th>\n",
       "      <th>cause</th>\n",
       "      <th>month</th>\n",
       "      <th>year</th>\n",
       "      <th>county</th>\n",
       "      <th>acres</th>\n",
       "      <th>structures</th>\n",
       "      <th>deaths</th>\n",
       "    </tr>\n",
       "  </thead>\n",
       "  <tbody>\n",
       "    <tr>\n",
       "      <th>0</th>\n",
       "      <td>Mendocino Complex</td>\n",
       "      <td>Under Investigation</td>\n",
       "      <td>July</td>\n",
       "      <td>2018</td>\n",
       "      <td>Colusa County, Lake County, Mendocino County &amp;...</td>\n",
       "      <td>459123</td>\n",
       "      <td>280</td>\n",
       "      <td>1</td>\n",
       "    </tr>\n",
       "    <tr>\n",
       "      <th>1</th>\n",
       "      <td>Thomas</td>\n",
       "      <td>Powerlines</td>\n",
       "      <td>December</td>\n",
       "      <td>2017</td>\n",
       "      <td>Ventura &amp; Santa Barbara</td>\n",
       "      <td>281893</td>\n",
       "      <td>1063</td>\n",
       "      <td>2</td>\n",
       "    </tr>\n",
       "    <tr>\n",
       "      <th>2</th>\n",
       "      <td>Cedar</td>\n",
       "      <td>Human Related</td>\n",
       "      <td>October</td>\n",
       "      <td>2003</td>\n",
       "      <td>San Diego</td>\n",
       "      <td>273246</td>\n",
       "      <td>2820</td>\n",
       "      <td>15</td>\n",
       "    </tr>\n",
       "    <tr>\n",
       "      <th>3</th>\n",
       "      <td>Rush</td>\n",
       "      <td>Lightning</td>\n",
       "      <td>August</td>\n",
       "      <td>2012</td>\n",
       "      <td>Lassen</td>\n",
       "      <td>271911</td>\n",
       "      <td>0</td>\n",
       "      <td>0</td>\n",
       "    </tr>\n",
       "    <tr>\n",
       "      <th>4</th>\n",
       "      <td>Rim</td>\n",
       "      <td>Human Related</td>\n",
       "      <td>August</td>\n",
       "      <td>2013</td>\n",
       "      <td>Tuolumne</td>\n",
       "      <td>257314</td>\n",
       "      <td>112</td>\n",
       "      <td>0</td>\n",
       "    </tr>\n",
       "  </tbody>\n",
       "</table>\n",
       "</div>"
      ],
      "text/plain": [
       "           fire_name                cause     month  year  \\\n",
       "0  Mendocino Complex  Under Investigation      July  2018   \n",
       "1             Thomas           Powerlines  December  2017   \n",
       "2              Cedar        Human Related   October  2003   \n",
       "3               Rush            Lightning    August  2012   \n",
       "4                Rim        Human Related    August  2013   \n",
       "\n",
       "                                              county   acres  structures  \\\n",
       "0  Colusa County, Lake County, Mendocino County &...  459123         280   \n",
       "1                            Ventura & Santa Barbara  281893        1063   \n",
       "2                                          San Diego  273246        2820   \n",
       "3                                             Lassen  271911           0   \n",
       "4                                           Tuolumne  257314         112   \n",
       "\n",
       "   deaths  \n",
       "0       1  \n",
       "1       2  \n",
       "2      15  \n",
       "3       0  \n",
       "4       0  "
      ]
     },
     "execution_count": 3,
     "metadata": {},
     "output_type": "execute_result"
    }
   ],
   "source": [
    "# read the CSV in pandas\n",
    "top_20 = pd.read_csv(top_20)\n",
    "top_20.head()"
   ]
  },
  {
   "cell_type": "code",
   "execution_count": null,
   "metadata": {},
   "outputs": [],
   "source": [
    "#Merge on year\n",
    "merge_df = pd.merge(info_df, items_df, on=\"year\")\n",
    "merge_df"
   ]
  },
  {
   "cell_type": "code",
   "execution_count": null,
   "metadata": {},
   "outputs": [],
   "source": [
    "# drop null rows\n",
    "# no_null_rainfall_df = merged_df.dropna(how='any')"
   ]
  },
  {
   "cell_type": "code",
   "execution_count": null,
   "metadata": {},
   "outputs": [],
   "source": [
    "# Reduce dataframe to only relevant columns\n",
    "# reduced_df = df.loc[:, []]\n",
    "# reduced_df"
   ]
  },
  {
   "cell_type": "code",
   "execution_count": null,
   "metadata": {},
   "outputs": [],
   "source": [
    "# Change column names to: Fire Name, Start Date, County, Acres Burned, Longitude, Latitude, Extinguished Date\n",
    "# print(reduced_df.rename(columns={}))"
   ]
  },
  {
   "cell_type": "code",
   "execution_count": null,
   "metadata": {},
   "outputs": [],
   "source": [
    "# Check data types\n",
    "reduced_df.dtypes"
   ]
  },
  {
   "cell_type": "code",
   "execution_count": null,
   "metadata": {},
   "outputs": [],
   "source": [
    "# Hypothesis 1:\n",
    "# H0: The counties with the most amount of wildfires in the top 20 CA fires do not have the most amount of acres burned\n",
    "# H1: The counties with the most amount of wildfires in the top 20 CA fires represent the most amount of acres burned"
   ]
  },
  {
   "cell_type": "code",
   "execution_count": null,
   "metadata": {},
   "outputs": [],
   "source": [
    "# Hypothesis 2:\n",
    "# H0: The counties with the most amount of wildfires in the top 20 CA fires do not have the least amount of rainfall calculated\n",
    "# H1: The counties with the most amount of wildfires in the top 20 CA fires have the least amount of rainfall calculated"
   ]
  },
  {
   "cell_type": "code",
   "execution_count": null,
   "metadata": {},
   "outputs": [],
   "source": [
    "# Hypothesis 3:\n",
    "# H0: The counties with the longest duration of wildfires in the top 20 CA fires do not have the most acres burned\n",
    "# H1: The counties with the longest duration of wildfires in the top 20 CA fires have the most acres burned"
   ]
  },
  {
   "cell_type": "code",
   "execution_count": null,
   "metadata": {},
   "outputs": [],
   "source": [
    "# Hypothesis: 4\n",
    "# H0: The counties with the longest duration of wildfires in the top 20 CA fires do not have the least amount of rainfall measured\n",
    "# H1: The counties with the longest duration of wildfires in the top 20 CA fires have the least amount of rainfall measured "
   ]
  }
 ],
 "metadata": {
  "kernelspec": {
   "display_name": "Python 3",
   "language": "python",
   "name": "python3"
  },
  "language_info": {
   "codemirror_mode": {
    "name": "ipython",
    "version": 3
   },
   "file_extension": ".py",
   "mimetype": "text/x-python",
   "name": "python",
   "nbconvert_exporter": "python",
   "pygments_lexer": "ipython3",
   "version": "3.6.10"
  }
 },
 "nbformat": 4,
 "nbformat_minor": 4
}
